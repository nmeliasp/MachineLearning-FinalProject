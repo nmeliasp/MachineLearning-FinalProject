{
 "cells": [
  {
   "cell_type": "code",
   "execution_count": 18,
   "metadata": {},
   "outputs": [
    {
     "name": "stdout",
     "output_type": "stream",
     "text": [
      "number of people in data set =  146\n",
      "features for every person in the data set:\n",
      "['salary', 'to_messages', 'deferral_payments', 'total_payments', 'exercised_stock_options', 'bonus', 'restricted_stock', 'shared_receipt_with_poi', 'restricted_stock_deferred', 'total_stock_value', 'expenses', 'loan_advances', 'from_messages', 'other', 'from_this_person_to_poi', 'poi', 'director_fees', 'deferred_income', 'long_term_incentive', 'email_address', 'from_poi_to_this_person']\n"
     ]
    }
   ],
   "source": [
    "#!/usr/bin/python\n",
    "\n",
    "import sys\n",
    "import pickle\n",
    "import matplotlib.pyplot\n",
    "#sys.path.append(\"../tools/\")\n",
    "\n",
    "from feature_format import featureFormat, targetFeatureSplit\n",
    "from tester import dump_classifier_and_data\n",
    "\n",
    "### Task 1: Select what features you'll use.\n",
    "### features_list is a list of strings, each of which is a feature name.\n",
    "### The first feature must be \"poi\".\n",
    "features_list = ['poi','salary'] # You will need to use more features\n",
    "\n",
    "### Load the dictionary containing the dataset\n",
    "with open(\"final_project_dataset.pkl\", \"r\") as data_file:\n",
    "    data_dict = pickle.load(data_file)\n",
    "print 'number of people in data set = ', len(data_dict)\n",
    "print 'features for every person in the data set:\\n', data_dict['LAY KENNETH L'].keys()"
   ]
  },
  {
   "cell_type": "code",
   "execution_count": 57,
   "metadata": {},
   "outputs": [
    {
     "data": {
      "text/plain": [
       "0"
      ]
     },
     "execution_count": 57,
     "metadata": {},
     "output_type": "execute_result"
    }
   ],
   "source": [
    "### Task 2: Remove outliers\n",
    "''' as seen in the outliers section, we saw that there was a \"Total\" entry in the data set that was a clear outlier.\n",
    "thus we are removing it\n",
    "'''\n",
    "data_dict.pop(\"TOTAL\",0)"
   ]
  },
  {
   "cell_type": "code",
   "execution_count": 53,
   "metadata": {},
   "outputs": [
    {
     "name": "stdout",
     "output_type": "stream",
     "text": [
      "features for every person in the data set:\n",
      "{'to_messages': 4273, 'deferral_payments': 202911, 'expenses': 99832, 'total_poi_emails': 2657, 'poi': True, 'deferred_income': -300000, 'email_address': 'kenneth.lay@enron.com', 'long_term_incentive': 3600000, 'restricted_stock_deferred': 'NaN', 'shared_receipt_with_poi': 2411, 'loan_advances': 81525000, 'from_messages': 36, 'other': 10359729, 'director_fees': 'NaN', 'bonus': 7000000, 'total_stock_value': 49110078, 'from_poi_to_this_person': 123, 'from_this_person_to_poi': 16, 'restricted_stock': 14761694, 'salary': 1072321, 'total_payments': 103559793, 'exercised_stock_options': 34348384}\n"
     ]
    }
   ],
   "source": [
    "### Task 3: Create new feature(s)\n",
    "# creating total number of emails a POI was in, whether if they sent it, recieved, or was shared with them\n",
    "list_of_nums=[]\n",
    "count = 0\n",
    "for person in data_dict:\n",
    "    data_dict[person]['total_poi_emails'] = 0\n",
    "    if data_dict[person]['from_this_person_to_poi'] =='NaN':\n",
    "        data_dict[person]['from_this_person_to_poi'] = 0\n",
    "    if data_dict[person]['shared_receipt_with_poi'] =='NaN':\n",
    "        data_dict[person]['shared_receipt_with_poi'] = 0\n",
    "    if data_dict[person]['from_poi_to_this_person'] == 'NaN':\n",
    "        data_dict[person]['from_poi_to_this_person'] = 0\n",
    "    list_of_nums.append(data_dict[person]['from_poi_to_this_person'])\n",
    "    list_of_nums.append(data_dict[person]['shared_receipt_with_poi'])\n",
    "    list_of_nums.append(data_dict[person]['from_poi_to_this_person'])\n",
    "    data_dict[person]['total_poi_emails'] = sum(list_of_nums)\n",
    "    #print data_dict[person]['total_poi_emails']\n",
    "    del list_of_nums[:]\n",
    "\n",
    "#print 'features for every person in the data set:\\n', data_dict['LAY KENNETH L']\n",
    "### Store to my_dataset for easy export below.\n",
    "my_dataset = data_dict\n"
   ]
  },
  {
   "cell_type": "code",
   "execution_count": 56,
   "metadata": {},
   "outputs": [
    {
     "name": "stdout",
     "output_type": "stream",
     "text": [
      "KOPPER MICHAEL J\n",
      "FASTOW ANDREW S\n",
      "YEAGER F SCOTT\n",
      "HIRKO JOSEPH\n"
     ]
    }
   ],
   "source": [
    "# Check if POIs have a 0 total poi emails\n",
    "for person in data_dict:\n",
    "    if data_dict[person]['poi']:\n",
    "        if data_dict[person]['total_poi_emails']==0:\n",
    "            print person\n",
    "        "
   ]
  },
  {
   "cell_type": "code",
   "execution_count": 20,
   "metadata": {},
   "outputs": [
    {
     "data": {
      "image/png": "[encoded data removed]",
      "text/plain": [
       "<matplotlib.figure.Figure at 0xae6c550>"
      ]
     },
     "metadata": {},
     "output_type": "display_data"
    }
   ],
   "source": [
    "### Extract features and labels from dataset for local testing\n",
    "data = featureFormat(my_dataset, features_list, sort_keys = True)\n",
    "labels, features = targetFeatureSplit(data)\n",
    "\n",
    "    \n",
    "for point in data:\n",
    "    poi = point[0]\n",
    "    salary = point[1]\n",
    "    matplotlib.pyplot.scatter( poi, salary )\n",
    "\n",
    "    \n",
    "matplotlib.pyplot.xlabel(\"poi\")\n",
    "matplotlib.pyplot.ylabel(\"salary\")\n",
    "matplotlib.pyplot.show()\n",
    "    "
   ]
  },
  {
   "cell_type": "code",
   "execution_count": null,
   "metadata": {
    "collapsed": true
   },
   "outputs": [],
   "source": [
    "### Task 4: Try a varity of classifiers\n",
    "### Please name your classifier clf for easy export below.\n",
    "### Note that if you want to do PCA or other multi-stage operations,\n",
    "### you'll need to use Pipelines. For more info:\n",
    "### http://scikit-learn.org/stable/modules/pipeline.html\n",
    "\n",
    "# Provided to give you a starting point. Try a variety of classifiers.\n",
    "from sklearn.naive_bayes import GaussianNB\n",
    "clf = GaussianNB()\n",
    "\n",
    "### Task 5: Tune your classifier to achieve better than .3 precision and recall \n",
    "### using our testing script. Check the tester.py script in the final project\n",
    "### folder for details on the evaluation method, especially the test_classifier\n",
    "### function. Because of the small size of the dataset, the script uses\n",
    "### stratified shuffle split cross validation. For more info: \n",
    "### http://scikit-learn.org/stable/modules/generated/sklearn.cross_validation.StratifiedShuffleSplit.html\n",
    "\n",
    "\n"
   ]
  },
  {
   "cell_type": "code",
   "execution_count": null,
   "metadata": {
    "collapsed": true
   },
   "outputs": [],
   "source": [
    "# Example starting point. Try investigating other evaluation techniques!\n",
    "from sklearn.cross_validation import train_test_split\n",
    "features_train, features_test, labels_train, labels_test = \\\n",
    "    train_test_split(features, labels, test_size=0.3, random_state=42)"
   ]
  },
  {
   "cell_type": "code",
   "execution_count": null,
   "metadata": {
    "collapsed": true
   },
   "outputs": [],
   "source": [
    "### Task 6: Dump your classifier, dataset, and features_list so anyone can\n",
    "### check your results. You do not need to change anything below, but make sure\n",
    "### that the version of poi_id.py that you submit can be run on its own and\n",
    "### generates the necessary .pkl files for validating your results.\n",
    "\n",
    "dump_classifier_and_data(clf, my_dataset, features_list)"
   ]
  }
 ],
 "metadata": {
  "kernelspec": {
   "display_name": "Python 2",
   "language": "python",
   "name": "python2"
  },
  "language_info": {
   "codemirror_mode": {
    "name": "ipython",
    "version": 2
   },
   "file_extension": ".py",
   "mimetype": "text/x-python",
   "name": "python",
   "nbconvert_exporter": "python",
   "pygments_lexer": "ipython2",
   "version": "2.7.13"
  }
 },
 "nbformat": 4,
 "nbformat_minor": 2
}
