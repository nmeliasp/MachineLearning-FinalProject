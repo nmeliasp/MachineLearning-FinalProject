{
 "cells": [
  {
   "cell_type": "code",
   "execution_count": 3,
   "metadata": {},
   "outputs": [],
   "source": [
    "#!/usr/bin/python\n",
    "\n",
    "import sys\n",
    "import pickle\n",
    "import seaborn as sns\n",
    "import matplotlib.pyplot as plt\n",
    "%matplotlib inline\n",
    "import matplotlib.cm as cm\n",
    "from sklearn.feature_selection import SelectKBest\n",
    "import numpy\n",
    "#sys.path.append(\"../tools/\")\n",
    "\n",
    "from feature_format import featureFormat, targetFeatureSplit\n",
    "from tester import dump_classifier_and_data\n",
    "from sklearn.neighbors import KNeighborsClassifier\n",
    "from sklearn.naive_bayes import GaussianNB\n",
    "from sklearn import tree\n",
    "from sklearn.ensemble import RandomForestClassifier\n",
    "from sklearn.svm import SVC\n",
    "from sklearn.cross_validation import train_test_split\n",
    "from sklearn.cross_validation import cross_val_score\n",
    "from tester import main\n",
    "from sklearn.metrics import precision_score\n",
    "from sklearn.metrics import recall_score\n",
    "from sklearn.model_selection import GridSearchCV\n"
   ]
  },
  {
   "cell_type": "code",
   "execution_count": 4,
   "metadata": {},
   "outputs": [
    {
     "name": "stdout",
     "output_type": "stream",
     "text": [
      "number of people in data set =  146\n",
      "features for every person in the data set:\n",
      "['salary', 'to_messages', 'deferral_payments', 'total_payments', 'exercised_stock_options', 'bonus', 'restricted_stock', 'shared_receipt_with_poi', 'restricted_stock_deferred', 'total_stock_value', 'expenses', 'loan_advances', 'from_messages', 'other', 'from_this_person_to_poi', 'poi', 'director_fees', 'deferred_income', 'long_term_incentive', 'email_address', 'from_poi_to_this_person']\n"
     ]
    }
   ],
   "source": [
    "### Task 1: Select what features you'll use.\n",
    "### features_list is a list of strings, each of which is a feature name.\n",
    "### The first feature must be \"poi\".\n",
    "#features_list = ['poi','salary','bonus','total_stock_value','exercised_stock_options','total_payments','long_term_incentive'] # You will need to use more features\n",
    "financial_features_list = ['poi','salary','bonus','deferral_payments','deferred_income','director_fees','exercised_stock_options','expenses','loan_advances','long_term_incentive','restricted_stock','restricted_stock_deferred','total_payments','total_stock_value']\n",
    "email_feature_list = ['poi','to_messages', 'from_poi_to_this_person', 'from_messages', 'from_this_person_to_poi', 'shared_receipt_with_poi']\n",
    "### Load the dictionary containing the dataset\n",
    "with open(\"final_project_dataset.pkl\", \"r\") as data_file:\n",
    "    data_dict = pickle.load(data_file)\n",
    "print 'number of people in data set = ', len(data_dict)\n",
    "print 'features for every person in the data set:\\n', data_dict['LAY KENNETH L'].keys()"
   ]
  },
  {
   "cell_type": "code",
   "execution_count": 5,
   "metadata": {},
   "outputs": [
    {
     "name": "stdout",
     "output_type": "stream",
     "text": [
      "length of data set before removing outlier =  146\n",
      "length of data set after removing outlier =  145\n"
     ]
    }
   ],
   "source": [
    "### Task 2: Remove outliers\n",
    "''' as seen in the outliers section, we saw that there was a \"Total\" entry in the data set that was a clear outlier.\n",
    "thus we are removing it\n",
    "'''\n",
    "print \"length of data set before removing outlier = \", len(data_dict)\n",
    "data_dict.pop(\"TOTAL\",0)\n",
    "print \"length of data set after removing outlier = \", len(data_dict)"
   ]
  },
  {
   "cell_type": "code",
   "execution_count": 6,
   "metadata": {
    "collapsed": true
   },
   "outputs": [],
   "source": [
    "### Task 3: Create new feature(s)\n",
    "\n",
    "\n",
    "### Store to my_dataset for easy export below.\n",
    "my_dataset = data_dict\n"
   ]
  },
  {
   "cell_type": "markdown",
   "metadata": {},
   "source": [
    "In the next cell, i am going to extract the features i defined in my list above and select the top 4 features from the financial features and from the email features to help aid my classifier. "
   ]
  },
  {
   "cell_type": "code",
   "execution_count": 7,
   "metadata": {},
   "outputs": [
    {
     "name": "stdout",
     "output_type": "stream",
     "text": [
      "printing financial_features k scores: \n",
      "[ 18.57570327  21.06000171   0.21705893  11.59554766   2.10765594\n",
      "  25.09754153   6.23420114   7.2427304   10.07245453   9.34670079\n",
      "   0.06498431   8.86672154  24.46765405]\n",
      "printing email_features k scores: \n",
      "[ 0.29296869  2.43137891  0.46640016  1.0853069   4.61945732]\n"
     ]
    }
   ],
   "source": [
    "### Extract features and labels from dataset for local testing\n",
    "\n",
    "# extract the 4 strongest features from the financial data with SelectKBest\n",
    "financial_data = featureFormat(my_dataset, financial_features_list, sort_keys = True)\n",
    "financial_labels, financial_features = targetFeatureSplit(financial_data)\n",
    "\n",
    "# select best features using SelectKBest\n",
    "test1 = SelectKBest(k='all')\n",
    "fit1 = test1.fit(financial_features,financial_labels)\n",
    "\n",
    "#numpy.set_printoptions(precision=10)\n",
    "print \"printing financial_features k scores: \\n\", (fit1.scores_)\n",
    "\n",
    "feature = fit1.transform(financial_features)\n",
    "# summarize selected features\n",
    "#print(feature)\n",
    "\n",
    "#print features\n",
    "#print labels\n",
    "#print financial_features[3]\n",
    "\n",
    "#extract the 4 strongest features from email data with SelectKBest\n",
    "email_data = featureFormat(my_dataset, email_feature_list, sort_keys = True)\n",
    "email_labels, email_features = targetFeatureSplit(email_data)\n",
    "\n",
    "test2 = SelectKBest(k='all')\n",
    "fit2 = test2.fit(email_features,email_labels)\n",
    "\n",
    "print \"printing email_features k scores: \\n\", (fit2.scores_)"
   ]
  },
  {
   "cell_type": "markdown",
   "metadata": {},
   "source": [
    "After running SelectKBest seperately on the Finanical Data and Email Data. The following features were identified as the top 4 from each group:\n",
    "* Financial Data:\n",
    "    - 'exercised_stock_options'\t25.09754153\n",
    "    - 'total_stock_value'\t24.46765405\n",
    "    - 'bonus'\t21.06000171\n",
    "    - 'salary'\t18.57570327\n",
    "\n",
    "\n",
    "\n",
    "* Email Data:\n",
    "    - 'shared_receipt_with_poi'\t4.61945732\n",
    "    - 'from_poi_to_this_person'\t2.43137891\n",
    "    - 'from_this_person_to_poi'\t1.0853069\n",
    "\n",
    "\n",
    "\n",
    "\n",
    "Now i am going to combine these feature to extract the top overal features from this set"
   ]
  },
  {
   "cell_type": "code",
   "execution_count": 8,
   "metadata": {},
   "outputs": [
    {
     "name": "stdout",
     "output_type": "stream",
     "text": [
      "printing financial_email_features k scores: \n",
      "[ 21.71552656  21.05899501  17.8573624   15.14904119   6.8822438\n",
      "   4.1460684    1.90840396   0.24111688]\n"
     ]
    }
   ],
   "source": [
    "financial_email_features = ['poi','exercised_stock_options','total_stock_value','bonus','salary','shared_receipt_with_poi','from_poi_to_this_person','from_this_person_to_poi','from_messages']\n",
    "financial_email_data = featureFormat(my_dataset, financial_email_features, sort_keys = True)\n",
    "labels, financial_email_features = targetFeatureSplit(financial_email_data)\n",
    "\n",
    "# select 4 best features using SelectKBest\n",
    "test3 = SelectKBest(k='all')\n",
    "fit3 = test3.fit(financial_email_features,labels)\n",
    "\n",
    "#numpy.set_printoptions(precision=10)\n",
    "print \"printing financial_email_features k scores: \\n\", (fit3.scores_)\n"
   ]
  },
  {
   "cell_type": "markdown",
   "metadata": {},
   "source": [
    "After running SelectKBest on the top 4 features from each group combined, I observed the following K scores:\n",
    "\n",
    "Feature \t               Score\n",
    "- 'exercised_stock_options'\t21.71552656\n",
    "- 'total_stock_value'\t21.05899501\n",
    "- 'bonus'\t17.8573624\n",
    "- 'salary'\t15.14904119\n",
    "- 'shared_receipt_with_poi'\t6.8822438\n",
    "- 'from_poi_to_this_person'\t4.1460684\n",
    "- 'from_this_person_to_poi'\t1.90840396\n",
    "- 'from_messages'\t0.24111688\n",
    "\n",
    "\n",
    " Features from the financial data seem to be the best features to use to input them into our classifier. I'm going to compare this when I run SelectKBest on all features and also to SelectPercentile"
   ]
  },
  {
   "cell_type": "code",
   "execution_count": 9,
   "metadata": {},
   "outputs": [
    {
     "name": "stdout",
     "output_type": "stream",
     "text": [
      "printing full_features k scores: \n",
      "[ 18.57570327   0.21705893   8.86672154   7.2427304   21.06000171\n",
      "   0.06498431  11.59554766  24.46765405   6.23420114  25.09754153\n",
      "   4.20497086  10.07245453   9.34670079   2.10765594   1.69882435\n",
      "   5.34494152   0.1641645    2.42650813   8.74648553]\n"
     ]
    }
   ],
   "source": [
    "full_feature_list = ['poi','salary', 'deferral_payments', 'total_payments', 'loan_advances', 'bonus', 'restricted_stock_deferred', 'deferred_income', 'total_stock_value', 'expenses', 'exercised_stock_options', 'other', 'long_term_incentive', 'restricted_stock', 'director_fees','to_messages','from_poi_to_this_person', 'from_messages', 'from_this_person_to_poi', 'shared_receipt_with_poi']\n",
    "full_data = featureFormat(my_dataset, full_feature_list, sort_keys = True)\n",
    "labels, full_features = targetFeatureSplit(full_data)\n",
    "\n",
    "# select best features using SelectKBest\n",
    "test4 = SelectKBest(k='all')\n",
    "fit4 = test4.fit(full_features,labels)\n",
    "\n",
    "#numpy.set_printoptions(precision=10)\n",
    "print \"printing full_features k scores: \\n\", (fit4.scores_)\n",
    "\n",
    "feature = fit4.transform(full_features)\n",
    "\n",
    "#print full_features"
   ]
  },
  {
   "cell_type": "markdown",
   "metadata": {},
   "source": [
    "After running SelectKBest on the entire feature list, excluding email address, I observed the following K scores:\n",
    "\n",
    "Feature \tScore\n",
    "- 'exercised_stock_options'\t25.09754153\n",
    "- 'total_stock_value'\t24.46765405\n",
    "- 'bonus'\t21.06000171\n",
    "- 'salary'\t18.57570327\n",
    "- 'deferred_income'\t11.59554766\n",
    "- 'long_term_incentive'\t10.07245453\n",
    "- 'restricted_stock'\t9.34670079\n",
    "- total_payments'\t8.86672154\n",
    "- 'shared_receipt_with_poi'\t8.74648553\n",
    "- 'loan_advances'\t7.2427304\n",
    "- 'expenses'\t6.23420114\n",
    "- 'from_poi_to_this_person'\t5.34494152\n",
    "- 'other'\t4.20497086\n",
    "- 'from_this_person_to_poi'\t2.42650813\n",
    "- 'director_fees'\t2.10765594\n",
    "- 'to_messages'\t1.69882435\n",
    "- 'deferral_payments'\t0.21705893\n",
    "- 'from_messages'\t0.1641645\n",
    "- 'restricted_stock_deferred'\t0.06498431\n",
    "\n",
    "\n",
    "As seen, the top 4 features from this list is the same when I picked out the top 4 features from each group and ran SelectKBest on the combined list. Lets see if this is the same when using Selectpercentile\n"
   ]
  },
  {
   "cell_type": "code",
   "execution_count": 10,
   "metadata": {},
   "outputs": [
    {
     "name": "stdout",
     "output_type": "stream",
     "text": [
      "printing full_features k scores: \n",
      "[ 18.57570327   0.21705893   8.86672154   7.2427304   21.06000171\n",
      "   0.06498431  11.59554766  24.46765405   6.23420114  25.09754153\n",
      "   4.20497086  10.07245453   9.34670079   2.10765594   1.69882435\n",
      "   5.34494152   0.1641645    2.42650813   8.74648553]\n"
     ]
    }
   ],
   "source": [
    "from sklearn.feature_selection import SelectPercentile, f_classif\n",
    "test5 =  SelectPercentile(f_classif, percentile=10)\n",
    "fit5 = test5.fit(full_features,labels)\n",
    "\n",
    "#numpy.set_printoptions(precision=10)\n",
    "print \"printing full_features k scores: \\n\", (fit5.scores_)\n"
   ]
  },
  {
   "cell_type": "markdown",
   "metadata": {},
   "source": [
    "After running SelectPercentile, I get the same scores as I did with SelectKBest. I think i found the features i want to use with my classifier. \n",
    "\n",
    "Now that I identified the features i want to use,  I am going to try a variety of classifiers without any parameter tunes to explore accuracy, recall, precision, and F1 metrics to help me identify which classifiers I should focus on when I go to tune them. "
   ]
  },
  {
   "cell_type": "code",
   "execution_count": 11,
   "metadata": {},
   "outputs": [
    {
     "name": "stdout",
     "output_type": "stream",
     "text": [
      "Accuracy is  0.897435897436\n",
      "precision =  0.0\n",
      "recall =  0.0\n",
      "\n",
      "Running 10 fold cross validation to compare accuracy\n",
      "\n",
      "printing mean of 10 fold CV\n",
      "mean =  0.855402930403\n",
      "\n",
      "\n"
     ]
    },
    {
     "name": "stderr",
     "output_type": "stream",
     "text": [
      "C:\\Users\\nmeli\\Documents\\Udacity\\Data Analysis\\Anacondas\\lib\\site-packages\\sklearn\\metrics\\classification.py:1135: UndefinedMetricWarning: Precision is ill-defined and being set to 0.0 due to no predicted samples.\n",
      "  'precision', 'predicted', average, warn_for)\n"
     ]
    },
    {
     "name": "stdout",
     "output_type": "stream",
     "text": [
      "GaussianNB(priors=None)\n",
      "\tAccuracy: 0.84677\tPrecision: 0.50312\tRecall: 0.32300\tF1: 0.39342\tF2: 0.34791\n",
      "\tTotal predictions: 13000\tTrue positives:  646\tFalse positives:  638\tFalse negatives: 1354\tTrue negatives: 10362\n",
      "\n",
      "Accuracy is  0.820512820513\n",
      "precision =  0.2\n",
      "recall =  0.25\n",
      "\n",
      "Running 10 fold cross validation to compare accuracy\n",
      "\n",
      "printing mean of 10 fold CV\n",
      "mean =  0.799084249084\n",
      "\n",
      "\n",
      "DecisionTreeClassifier(class_weight=None, criterion='gini', max_depth=None,\n",
      "            max_features=None, max_leaf_nodes=None,\n",
      "            min_impurity_decrease=0.0, min_impurity_split=None,\n",
      "            min_samples_leaf=1, min_samples_split=2,\n",
      "            min_weight_fraction_leaf=0.0, presort=False, random_state=None,\n",
      "            splitter='best')\n",
      "\tAccuracy: 0.78846\tPrecision: 0.31831\tRecall: 0.32850\tF1: 0.32333\tF2: 0.32641\n",
      "\tTotal predictions: 13000\tTrue positives:  657\tFalse positives: 1407\tFalse negatives: 1343\tTrue negatives: 9593\n",
      "\n",
      "Accuracy is  0.871794871795\n",
      "precision =  0.333333333333\n",
      "recall =  0.25\n",
      "\n",
      "Running 10 fold cross validation to compare accuracy\n",
      "\n",
      "printing mean of 10 fold CV\n",
      "mean =  0.870146520147\n",
      "\n",
      "\n",
      "RandomForestClassifier(bootstrap=True, class_weight=None, criterion='gini',\n",
      "            max_depth=None, max_features='auto', max_leaf_nodes=None,\n",
      "            min_impurity_decrease=0.0, min_impurity_split=None,\n",
      "            min_samples_leaf=1, min_samples_split=2,\n",
      "            min_weight_fraction_leaf=0.0, n_estimators=10, n_jobs=1,\n",
      "            oob_score=False, random_state=None, verbose=0,\n",
      "            warm_start=False)\n",
      "\tAccuracy: 0.84608\tPrecision: 0.49947\tRecall: 0.23450\tF1: 0.31916\tF2: 0.26233\n",
      "\tTotal predictions: 13000\tTrue positives:  469\tFalse positives:  470\tFalse negatives: 1531\tTrue negatives: 10530\n",
      "\n",
      "Accuracy is  0.897435897436\n",
      "precision =  0.0\n",
      "recall =  0.0\n",
      "\n",
      "Running 10 fold cross validation to compare accuracy\n",
      "\n",
      "printing mean of 10 fold CV\n",
      "mean =  0.862454212454\n",
      "\n",
      "\n",
      "Got a divide by zero when trying out: SVC(C=1.0, cache_size=200, class_weight=None, coef0=0.0,\n",
      "  decision_function_shape='ovr', degree=3, gamma='auto', kernel='rbf',\n",
      "  max_iter=-1, probability=False, random_state=None, shrinking=True,\n",
      "  tol=0.001, verbose=False)\n",
      "Precision or recall may be undefined due to a lack of true positive predicitons.\n",
      "Accuracy is  0.923076923077\n",
      "precision =  1.0\n",
      "recall =  0.25\n",
      "\n",
      "Running 10 fold cross validation to compare accuracy\n",
      "\n",
      "printing mean of 10 fold CV\n",
      "mean =  0.870787545788\n",
      "\n",
      "\n",
      "KNeighborsClassifier(algorithm='auto', leaf_size=30, metric='minkowski',\n",
      "           metric_params=None, n_jobs=1, n_neighbors=5, p=2,\n",
      "           weights='uniform')\n",
      "\tAccuracy: 0.86615\tPrecision: 0.65971\tRecall: 0.26850\tF1: 0.38166\tF2: 0.30463\n",
      "\tTotal predictions: 13000\tTrue positives:  537\tFalse positives:  277\tFalse negatives: 1463\tTrue negatives: 10723\n",
      "\n",
      "printing summary of accuracy scores from Classifiers, \n",
      "[0.89743589743589747, 0.82051282051282048, 0.87179487179487181, 0.89743589743589747, 0.92307692307692313]\n",
      "printing summary of mean accuracy scores from 10 fold CV, \n",
      "[0.85540293040293025, 0.80082417582417587, 0.86126373626373631, 0.86245421245421239, 0.8707875457875458]\n"
     ]
    }
   ],
   "source": [
    "### Task 4: Try a varity of classifiers\n",
    "### Please name your classifier clf for easy export below.\n",
    "### Note that if you want to do PCA or other multi-stage operations,\n",
    "### you'll need to use Pipelines. For more info:\n",
    "### http://scikit-learn.org/stable/modules/pipeline.html\n",
    "\n",
    "\n",
    "# use and extract features identified in previous cell for classifers. \n",
    "features_list = ['poi','salary',  'bonus', 'total_stock_value', 'exercised_stock_options']\n",
    "data = featureFormat(my_dataset, features_list, sort_keys = True)\n",
    "labels, features = targetFeatureSplit(data)\n",
    "\n",
    "# split data into training/testing data useing cross validation\n",
    "features_train, features_test, labels_train, labels_test = \\\n",
    "    train_test_split(features, labels, test_size=0.3, random_state=42)\n",
    "# list of classifiers and lists to track metric scores\n",
    "clf_list=[GaussianNB(),tree.DecisionTreeClassifier(),RandomForestClassifier(),SVC(),KNeighborsClassifier()]\n",
    "accuracy_list = []\n",
    "mean_accuracy_list = []\n",
    "# loop through each classifier and capture evaluation metrics\n",
    "for c in clf_list:\n",
    "    clf = c\n",
    "    clf.fit(features_train,labels_train)\n",
    "    pred = clf.predict(features_test)\n",
    "    #print pred\n",
    "    print \"Accuracy is \",clf.score(features_test, labels_test)\n",
    "    accuracy_list.append(clf.score(features_test, labels_test))\n",
    "    print \"precision = \", precision_score(labels_test,pred)\n",
    "    print \"recall = \", recall_score(labels_test,pred)\n",
    "    print \"\\nRunning 10 fold cross validation to compare accuracy\\n\"\n",
    "    print \"printing mean of 10 fold CV\"\n",
    "    print \"mean = \",cross_val_score(clf,features,labels,cv=10,scoring='accuracy').mean()\n",
    "    mean_accuracy_list.append(cross_val_score(clf,features,labels,cv=10,scoring='accuracy').mean())\n",
    "    print \"\\n\"\n",
    "    dump_classifier_and_data(clf, my_dataset, features_list)\n",
    "    main()\n",
    "    \n",
    "print \"printing summary of accuracy scores from Classifiers, \\n\", accuracy_list\n",
    "print \"printing summary of mean accuracy scores from 10 fold CV, \\n\", mean_accuracy_list"
   ]
  },
  {
   "cell_type": "markdown",
   "metadata": {},
   "source": [
    "Since I didn’t have a particular algorithm to try in mind, I chose to iterate through several classifiers to evaluate different metrics without making any parameter tunes to get a baseline of how each classifier performs. This will help me choose which classifier to focus tuning parameters on. When iterating, I captured the accuracy of a feature train/test split as well as a mean accuracy when running a 10-fold cross validation test to compare the two scores. I felt it was necessary to perform 10-fold cross validation to ensure all data is included in a test and a training procedure. Additionally, I dumped out the classifier, dataset, and feature list in each iteration so I can call tester.py. I recorded all the scores the tester file provides scores of each classifier. After iterating through each classier, I observed the following metrics:\n",
    "\n",
    "\n",
    "|Classifier|Accuracy|Precision|Recall|Mean 10 Fold CV Accuracy|F1 Score|\n",
    "|-------|------|------|-------|------|------|\n",
    "|Naive Bayes |.847|.503|.323|.855|.393|\n",
    "|Decision Tree|.790|.327|.337|.793|.332|\n",
    "|Random Forest|.846|.479|.229|.863|.310|\n",
    "|SVC|N/A|N/A|N/A|.862|N/A|\n",
    "|K Nearest Neighbor|.866|.66|.269|.871|.382|\n",
    "\n",
    "Due to the drawbacks accuracy can have when evaluating a classifier, I am choosing to focus on Precision and Recall. The classifiers that have the highest precision are:\n",
    "- Naive Bayes\n",
    "- K Nearest Neighbor\n",
    "\n",
    "The classifiers that have the highest recall are :\n",
    "- Decision Tree\n",
    "- Naive Bayes\n",
    "\n",
    "Metrics for SVC was not recorded due to errors. I am going to try some feature scaling and parameter tunes to see if that helps the issue now and re-evaluate. \n"
   ]
  },
  {
   "cell_type": "code",
   "execution_count": 12,
   "metadata": {},
   "outputs": [
    {
     "name": "stdout",
     "output_type": "stream",
     "text": [
      "Best estimator found by grid search:\n",
      "SVC(C=1000, cache_size=200, class_weight=None, coef0=0.0,\n",
      "  decision_function_shape='ovr', degree=3, gamma='auto', kernel='rbf',\n",
      "  max_iter=-1, probability=False, random_state=None, shrinking=True,\n",
      "  tol=0.001, verbose=False)\n",
      "{'C': 1000}\n",
      "3\n",
      "0.204395604396\n"
     ]
    }
   ],
   "source": [
    "from sklearn.preprocessing import MinMaxScaler\n",
    "\n",
    "features_list = ['poi','salary',  'bonus', 'total_stock_value', 'exercised_stock_options']\n",
    "data = featureFormat(my_dataset, features_list, sort_keys = True)\n",
    "labels, features = targetFeatureSplit(data)\n",
    "new_finance_features = numpy.array(features) +0.\n",
    "\n",
    "scaler = MinMaxScaler()\n",
    "rescaled_features = scaler.fit_transform(new_finance_features)\n",
    "\n",
    "#print \"printing rescaled_features \\n\", rescaled_features\n",
    "\n",
    "param_grid1 = {'C': [1, 10, 100, 1000],},\n",
    "param_grid2 = {'C': [1, 10, 100, 1000], 'gamma': [0.0001, 0.0005, 0.001, 0.005, 0.01, 0.1],}\n",
    "param_grid3 = {'C': [1, 10, 100],\n",
    "              'gamma': [0.0001, 0.0005, 0.001, 0.005, 0.01, 0.1], }\n",
    "\n",
    "features_train1, features_test1, labels_train1, labels_test1 = \\\n",
    "    train_test_split(rescaled_features, labels, test_size=0.3, random_state=42)\n",
    "\n",
    "\n",
    "clf = GridSearchCV(SVC(kernel='rbf'), param_grid1,scoring='recall')\n",
    "clf.fit(features_train1, labels_train1)\n",
    "print(\"Best estimator found by grid search:\")\n",
    "print(clf.best_estimator_)\n",
    "print(clf.best_params_)\n",
    "print(clf.best_index_)\n",
    "print(clf.best_score_)    \n",
    "    \n",
    "    "
   ]
  },
  {
   "cell_type": "code",
   "execution_count": 13,
   "metadata": {},
   "outputs": [
    {
     "name": "stdout",
     "output_type": "stream",
     "text": [
      "Accuracy is  0.897435897436\n",
      "\n",
      "Running 10 fold cross validation to compare accuracy\n",
      "\n",
      "printing mean of 10 fold CV\n",
      "mean =  0.870787545788\n",
      "\n",
      "\n",
      "precision =  0.0\n",
      "recall =  0.0\n",
      "Got a divide by zero when trying out: SVC(C=1000, cache_size=200, class_weight=None, coef0=0.0,\n",
      "  decision_function_shape='ovr', degree=3, gamma='auto', kernel='rbf',\n",
      "  max_iter=-1, probability=False, random_state=None, shrinking=True,\n",
      "  tol=0.001, verbose=False)\n",
      "Precision or recall may be undefined due to a lack of true positive predicitons.\n"
     ]
    }
   ],
   "source": [
    "clf = SVC(C=1000, cache_size=200, class_weight=None, coef0=0.0,\n",
    "  decision_function_shape='ovr', degree=3, gamma='auto', kernel='rbf',\n",
    "  max_iter=-1, probability=False, random_state=None, shrinking=True,\n",
    "  tol=0.001, verbose=False)\n",
    "clf.fit(features_train1,labels_train1)\n",
    "pred = clf.predict(features_test1)\n",
    "#print pred\n",
    "print \"Accuracy is \",clf.score(features_test1, labels_test1)\n",
    "print \"\\nRunning 10 fold cross validation to compare accuracy\\n\"\n",
    "print \"printing mean of 10 fold CV\"\n",
    "print \"mean = \",cross_val_score(clf,rescaled_features,labels,cv=10,scoring='accuracy').mean()\n",
    "print \"\\n\"\n",
    "print \"precision = \", precision_score(labels_test1,pred)\n",
    "print \"recall = \", recall_score(labels_test1,pred)\n",
    "dump_classifier_and_data(clf, my_dataset, features_list)\n",
    "main()\n",
    "\n",
    "    \n"
   ]
  },
  {
   "cell_type": "markdown",
   "metadata": {},
   "source": [
    "It doesnt look like feature scaling or parameter tunes helped much in terms of evaulating Precision and Recall. \n",
    "\n",
    "Having good recall means that nearly every time a POI shows up in my test set, I am able to identify him or her. Because of this, I am going to try and tune the classifiers that have the highest baseline of recall to see if I can improve the recall score. I feel this is the important metric to focus on because I want to make sure I dont miss a POI when they show up in the test set. When applying this to the enron case, I feel it is more important to be able to identify POIs even if there are some false positives. False postives can be proven innocent through court trials and rulings made on the individuals. However, if a POI is missed, they could walk free and never be brought to justice. \n",
    "\n",
    "Since parameter tuning is not needed on Naive Bayes, I am going to do paramater tuning on the alogrithms I initially tried. \n"
   ]
  },
  {
   "cell_type": "code",
   "execution_count": 14,
   "metadata": {},
   "outputs": [
    {
     "name": "stdout",
     "output_type": "stream",
     "text": [
      "Best estimator found by grid search:\n",
      "DecisionTreeClassifier(class_weight=None, criterion='entropy', max_depth=None,\n",
      "            max_features=2, max_leaf_nodes=None, min_impurity_decrease=0.0,\n",
      "            min_impurity_split=None, min_samples_leaf=1,\n",
      "            min_samples_split=2, min_weight_fraction_leaf=0.0,\n",
      "            presort=False, random_state=None, splitter='random')\n",
      "{'max_features': 2, 'min_samples_split': 2, 'criterion': 'entropy', 'splitter': 'random'}\n",
      "41\n",
      "0.363736263736\n"
     ]
    }
   ],
   "source": [
    "### Task 5: Tune your classifier to achieve better than .3 precision and recall \n",
    "### using our testing script. Check the tester.py script in the final project\n",
    "### folder for details on the evaluation method, especially the test_classifier\n",
    "### function. Because of the small size of the dataset, the script uses\n",
    "### stratified shuffle split cross validation. For more info: \n",
    "### http://scikit-learn.org/stable/modules/generated/sklearn.cross_validation.StratifiedShuffleSplit.html\n",
    "\n",
    "# Tuning Decision Tree\n",
    "\n",
    "\n",
    "param_grid = {'criterion':('gini','entropy'),'splitter':('best','random'),'min_samples_split':[2,50,100,1000],\n",
    "                'max_features':[1,2,3,4],}\n",
    "\n",
    "clf1 = tree.DecisionTreeClassifier()\n",
    "clf = GridSearchCV(clf1, param_grid,scoring = 'recall')\n",
    "clf.fit(features_train, labels_train)\n",
    "print(\"Best estimator found by grid search:\")\n",
    "print(clf.best_estimator_)\n",
    "print(clf.best_params_)\n",
    "print(clf.best_index_)\n",
    "print(clf.best_score_)"
   ]
  },
  {
   "cell_type": "code",
   "execution_count": 15,
   "metadata": {},
   "outputs": [
    {
     "name": "stdout",
     "output_type": "stream",
     "text": [
      "Accuracy is  0.794871794872\n",
      "precision =  0.166666666667\n",
      "recall =  0.25\n",
      "\n",
      "Running 10 fold cross validation to compare accuracy\n",
      "\n",
      "printing mean of 10 fold CV\n",
      "mean =  0.822802197802\n",
      "\n",
      "\n",
      "DecisionTreeClassifier(class_weight=None, criterion='entropy', max_depth=None,\n",
      "            max_features=4, max_leaf_nodes=None, min_impurity_decrease=0.0,\n",
      "            min_impurity_split=None, min_samples_leaf=1,\n",
      "            min_samples_split=2, min_weight_fraction_leaf=0.0,\n",
      "            presort=False, random_state=None, splitter='best')\n",
      "\tAccuracy: 0.79669\tPrecision: 0.32962\tRecall: 0.31100\tF1: 0.32004\tF2: 0.31455\n",
      "\tTotal predictions: 13000\tTrue positives:  622\tFalse positives: 1265\tFalse negatives: 1378\tTrue negatives: 9735\n",
      "\n"
     ]
    }
   ],
   "source": [
    "# Tune Decision Tree\n",
    "clf = tree.DecisionTreeClassifier(class_weight=None, criterion='entropy', max_depth=None,\n",
    "            max_features=4, max_leaf_nodes=None, min_impurity_decrease=0.0,\n",
    "            min_impurity_split=None, min_samples_leaf=1,\n",
    "            min_samples_split=2, min_weight_fraction_leaf=0.0,\n",
    "            presort=False, random_state=None, splitter='best')\n",
    "\n",
    "\n",
    "clf.fit(features_train,labels_train)\n",
    "\n",
    "pred = clf.predict(features_test)\n",
    "    #print pred\n",
    "print \"Accuracy is \",clf.score(features_test, labels_test)\n",
    "accuracy_list.append(clf.score(features_test, labels_test))\n",
    "print \"precision = \", precision_score(labels_test,pred)\n",
    "print \"recall = \", recall_score(labels_test,pred)\n",
    "print \"\\nRunning 10 fold cross validation to compare accuracy\\n\"\n",
    "print \"printing mean of 10 fold CV\"\n",
    "print \"mean = \",cross_val_score(clf,features,labels,cv=10,scoring='accuracy').mean()\n",
    "mean_accuracy_list.append(cross_val_score(clf,features,labels,cv=10,scoring='accuracy').mean())\n",
    "print \"\\n\"\n",
    "dump_classifier_and_data(clf, my_dataset, features_list)\n",
    "main()"
   ]
  },
  {
   "cell_type": "markdown",
   "metadata": {},
   "source": [
    "When doing parameter tuning on Decision Tree using GridsearchCV, i had to set the scorer to recall in order to get the parameters that produced the highest recall. This seemed to help as I now get a recall score of .319. Let see how the other algorithms do. "
   ]
  },
  {
   "cell_type": "code",
   "execution_count": 16,
   "metadata": {},
   "outputs": [
    {
     "name": "stdout",
     "output_type": "stream",
     "text": [
      "Best estimator found by grid search:\n",
      "RandomForestClassifier(bootstrap=True, class_weight=None, criterion='gini',\n",
      "            max_depth=None, max_features='auto', max_leaf_nodes=None,\n",
      "            min_impurity_decrease=0.0, min_impurity_split=None,\n",
      "            min_samples_leaf=1, min_samples_split=2,\n",
      "            min_weight_fraction_leaf=0.0, n_estimators=50, n_jobs=1,\n",
      "            oob_score=False, random_state=None, verbose=0,\n",
      "            warm_start=False)\n",
      "{'min_samples_split': 2, 'n_estimators': 50}\n",
      "2\n",
      "0.136263736264\n"
     ]
    }
   ],
   "source": [
    "# Tune Random Forest\n",
    "param_grid = {'min_samples_split':[2,50,100],\n",
    "                'n_estimators':[5,10,50,100],}\n",
    "\n",
    "clf1 = RandomForestClassifier()\n",
    "clf = GridSearchCV(clf1, param_grid,scoring='recall')\n",
    "clf.fit(features_train, labels_train)\n",
    "print(\"Best estimator found by grid search:\")\n",
    "print(clf.best_estimator_)\n",
    "print(clf.best_params_)\n",
    "print(clf.best_index_)\n",
    "print(clf.best_score_)\n",
    "#print(clf.feature_importances_)"
   ]
  },
  {
   "cell_type": "code",
   "execution_count": 17,
   "metadata": {},
   "outputs": [
    {
     "name": "stdout",
     "output_type": "stream",
     "text": [
      "Accuracy is  0.923076923077\n",
      "precision =  1.0\n",
      "recall =  0.25\n",
      "\n",
      "Running 10 fold cross validation to compare accuracy\n",
      "\n",
      "printing mean of 10 fold CV\n",
      "mean =  0.839377289377\n",
      "\n",
      "\n",
      "[ 0.1499827   0.22851573  0.41492547  0.2065761 ]\n",
      "RandomForestClassifier(bootstrap=True, class_weight=None, criterion='gini',\n",
      "            max_depth=None, max_features='auto', max_leaf_nodes=None,\n",
      "            min_impurity_decrease=0.0, min_impurity_split=None,\n",
      "            min_samples_leaf=1, min_samples_split=2,\n",
      "            min_weight_fraction_leaf=0.0, n_estimators=5, n_jobs=1,\n",
      "            oob_score=False, random_state=None, verbose=0,\n",
      "            warm_start=False)\n",
      "\tAccuracy: 0.82800\tPrecision: 0.41194\tRecall: 0.27600\tF1: 0.33054\tF2: 0.29550\n",
      "\tTotal predictions: 13000\tTrue positives:  552\tFalse positives:  788\tFalse negatives: 1448\tTrue negatives: 10212\n",
      "\n"
     ]
    }
   ],
   "source": [
    "clf=RandomForestClassifier(bootstrap=True, class_weight=None, criterion='gini',\n",
    "            max_depth=None, max_features='auto', max_leaf_nodes=None,\n",
    "            min_impurity_decrease=0.0, min_impurity_split=None,\n",
    "            min_samples_leaf=1, min_samples_split=2,\n",
    "            min_weight_fraction_leaf=0.0, n_estimators=5, n_jobs=1,\n",
    "            oob_score=False, random_state=None, verbose=0,\n",
    "            warm_start=False)\n",
    "\n",
    "\n",
    "clf.fit(features_train,labels_train)\n",
    "\n",
    "pred = clf.predict(features_test)\n",
    "    #print pred\n",
    "print \"Accuracy is \",clf.score(features_test, labels_test)\n",
    "accuracy_list.append(clf.score(features_test, labels_test))\n",
    "print \"precision = \", precision_score(labels_test,pred)\n",
    "print \"recall = \", recall_score(labels_test,pred)\n",
    "print \"\\nRunning 10 fold cross validation to compare accuracy\\n\"\n",
    "print \"printing mean of 10 fold CV\"\n",
    "print \"mean = \",cross_val_score(clf,features,labels,cv=10,scoring='accuracy').mean()\n",
    "mean_accuracy_list.append(cross_val_score(clf,features,labels,cv=10,scoring='accuracy').mean())\n",
    "print \"\\n\"\n",
    "print(clf.feature_importances_)\n",
    "dump_classifier_and_data(clf, my_dataset, features_list)\n",
    "main()"
   ]
  },
  {
   "cell_type": "markdown",
   "metadata": {},
   "source": [
    "When doing some parameter tuning on RandomForest, my recall improves a little bit but not enough as it is still below .3. I will try parameter tuning on some other algorithms and see if I can get the recall score above .3"
   ]
  },
  {
   "cell_type": "code",
   "execution_count": 18,
   "metadata": {},
   "outputs": [
    {
     "name": "stdout",
     "output_type": "stream",
     "text": [
      "Best estimator found by grid search:\n",
      "KNeighborsClassifier(algorithm='auto', leaf_size=30, metric='minkowski',\n",
      "           metric_params=None, n_jobs=1, n_neighbors=1, p=2,\n",
      "           weights='uniform')\n",
      "{'n_neighbors': 1}\n",
      "0\n",
      "0.296703296703\n"
     ]
    }
   ],
   "source": [
    "# Tune K Nearest Neighbors\n",
    "k = numpy.arange(10)+1\n",
    "param_grid = {'n_neighbors':k}\n",
    "\n",
    "clf1 = KNeighborsClassifier()\n",
    "clf = GridSearchCV(clf1, param_grid,scoring = 'recall',cv=10)\n",
    "clf.fit(features_train, labels_train)\n",
    "print(\"Best estimator found by grid search:\")\n",
    "print(clf.best_estimator_)\n",
    "print(clf.best_params_)\n",
    "print(clf.best_index_)\n",
    "print(clf.best_score_)\n",
    "\n"
   ]
  },
  {
   "cell_type": "code",
   "execution_count": 19,
   "metadata": {},
   "outputs": [
    {
     "name": "stdout",
     "output_type": "stream",
     "text": [
      "Accuracy is  0.846153846154\n",
      "precision =  0.333333333333\n",
      "recall =  0.5\n",
      "\n",
      "Running 10 fold cross validation to compare accuracy\n",
      "\n",
      "printing mean of 10 fold CV\n",
      "mean =  0.870238095238\n",
      "\n",
      "\n",
      "KNeighborsClassifier(algorithm='auto', leaf_size=30, metric='minkowski',\n",
      "           metric_params=None, n_jobs=1, n_neighbors=1, p=2,\n",
      "           weights='uniform')\n",
      "\tAccuracy: 0.84369\tPrecision: 0.48973\tRecall: 0.38150\tF1: 0.42889\tF2: 0.39914\n",
      "\tTotal predictions: 13000\tTrue positives:  763\tFalse positives:  795\tFalse negatives: 1237\tTrue negatives: 10205\n",
      "\n"
     ]
    }
   ],
   "source": [
    "clf=KNeighborsClassifier(algorithm='auto', leaf_size=30, metric='minkowski',\n",
    "           metric_params=None, n_jobs=1, n_neighbors=1, p=2,\n",
    "           weights='uniform')\n",
    "\n",
    "\n",
    "clf.fit(features_train,labels_train)\n",
    "\n",
    "pred = clf.predict(features_test)\n",
    "    #print pred\n",
    "print \"Accuracy is \",clf.score(features_test, labels_test)\n",
    "accuracy_list.append(clf.score(features_test, labels_test))\n",
    "print \"precision = \", precision_score(labels_test,pred)\n",
    "print \"recall = \", recall_score(labels_test,pred)\n",
    "print \"\\nRunning 10 fold cross validation to compare accuracy\\n\"\n",
    "print \"printing mean of 10 fold CV\"\n",
    "print \"mean = \",cross_val_score(clf,features,labels,cv=10,scoring='accuracy').mean()\n",
    "mean_accuracy_list.append(cross_val_score(clf,features,labels,cv=10,scoring='accuracy').mean())\n",
    "print \"\\n\"\n",
    "dump_classifier_and_data(clf, my_dataset, features_list)\n",
    "main()"
   ]
  },
  {
   "cell_type": "markdown",
   "metadata": {},
   "source": [
    "After doing some parameter tunes on my classifier algorithms, I observed the following results:\n",
    "\n",
    "|Classifier|Accuracy|Precision|Recall|Mean 10 Fold CV Accuracy|F1 Score|True positives|False positives|False negatives|True negatives|\n",
    "|-------|------|------|-------|------|------|-------|------|------|-----|\n",
    "|Decision Tree|.796|.33|.311|.823|.319|621|1272|1379|9728|\n",
    "|Random Forest|.833|.433|.284|.854|.342|567|743|1433|10257|\n",
    "|K Nearest Neighbor|.844|.49|.382|.87|.492|763|795|1237|10205|\n",
    "\n",
    "\n",
    "Cleary, the algorithm the benefited the most from parameter tuning was K Nearest Neighbor. It achieved the highest recall from all the classifiers I explored. Now I am going to use K Nearest Neighbor with the optimal value for K and evaluate the precision and recall i get when testing the classifier. "
   ]
  },
  {
   "cell_type": "code",
   "execution_count": 21,
   "metadata": {},
   "outputs": [
    {
     "name": "stdout",
     "output_type": "stream",
     "text": [
      "Accuracy is  0.846153846154\n",
      "precision =  0.333333333333\n",
      "recall =  0.5\n",
      "\n",
      "Running 10 fold cross validation to compare recall and precision\n",
      "\n",
      "printing means of 10 fold CV\n",
      "mean_recall =  0.4\n",
      "mean_precision =  0.433333333333\n",
      "\n",
      "\n",
      "KNeighborsClassifier(algorithm='auto', leaf_size=30, metric='minkowski',\n",
      "           metric_params=None, n_jobs=1, n_neighbors=1, p=2,\n",
      "           weights='uniform')\n",
      "\tAccuracy: 0.84369\tPrecision: 0.48973\tRecall: 0.38150\tF1: 0.42889\tF2: 0.39914\n",
      "\tTotal predictions: 13000\tTrue positives:  763\tFalse positives:  795\tFalse negatives: 1237\tTrue negatives: 10205\n",
      "\n"
     ]
    }
   ],
   "source": [
    "# Run K Nearest Neighbor with optimal K Value and dump out performance metrics\n",
    "\n",
    "clf=KNeighborsClassifier(algorithm='auto', leaf_size=30, metric='minkowski',\n",
    "           metric_params=None, n_jobs=1, n_neighbors=1, p=2,\n",
    "           weights='uniform')\n",
    "\n",
    "\n",
    "clf.fit(features_train,labels_train)\n",
    "\n",
    "pred = clf.predict(features_test)\n",
    "    #print pred\n",
    "print \"Accuracy is \",clf.score(features_test, labels_test)\n",
    "print \"precision = \", precision_score(labels_test,pred)\n",
    "print \"recall = \", recall_score(labels_test,pred)\n",
    "print \"\\nRunning 10 fold cross validation to compare recall and precision\\n\"\n",
    "print \"printing means of 10 fold CV\"\n",
    "print \"mean_recall = \",cross_val_score(clf,features,labels,cv=10,scoring='recall').mean()\n",
    "print \"mean_precision = \",cross_val_score(clf,features,labels,cv=10,scoring='precision').mean()\n",
    "print \"\\n\"\n",
    "dump_classifier_and_data(clf, my_dataset, features_list)\n",
    "main()\n"
   ]
  },
  {
   "cell_type": "markdown",
   "metadata": {},
   "source": [
    "As seen from above, when running 10 Fold Cross validation, I achieve a mean recall of .4 and a mean precision of .433. When the tester.py file is called, I achieve a recall of .382 and a precision of .49"
   ]
  },
  {
   "cell_type": "code",
   "execution_count": null,
   "metadata": {
    "collapsed": true
   },
   "outputs": [],
   "source": [
    "### Task 6: Dump your classifier, dataset, and features_list so anyone can\n",
    "### check your results. You do not need to change anything below, but make sure\n",
    "### that the version of poi_id.py that you submit can be run on its own and\n",
    "### generates the necessary .pkl files for validating your results.\n",
    "\n",
    "dump_classifier_and_data(clf, my_dataset, features_list)"
   ]
  },
  {
   "cell_type": "code",
   "execution_count": null,
   "metadata": {
    "collapsed": true
   },
   "outputs": [],
   "source": [
    "# %load tester.py\n",
    "#!/usr/bin/pickle\n",
    "\n",
    "\"\"\" a basic script for importing student's POI identifier,\n",
    "    and checking the results that they get from it \n",
    " \n",
    "    requires that the algorithm, dataset, and features list\n",
    "    be written to my_classifier.pkl, my_dataset.pkl, and\n",
    "    my_feature_list.pkl, respectively\n",
    "\n",
    "    that process should happen at the end of poi_id.py\n",
    "\"\"\"\n",
    "\n",
    "import pickle\n",
    "import sys\n",
    "from sklearn.cross_validation import StratifiedShuffleSplit\n",
    "sys.path.append(\"../tools/\")\n",
    "from feature_format import featureFormat, targetFeatureSplit\n",
    "\n",
    "PERF_FORMAT_STRING = \"\\\n",
    "\\tAccuracy: {:>0.{display_precision}f}\\tPrecision: {:>0.{display_precision}f}\\t\\\n",
    "Recall: {:>0.{display_precision}f}\\tF1: {:>0.{display_precision}f}\\tF2: {:>0.{display_precision}f}\"\n",
    "RESULTS_FORMAT_STRING = \"\\tTotal predictions: {:4d}\\tTrue positives: {:4d}\\tFalse positives: {:4d}\\\n",
    "\\tFalse negatives: {:4d}\\tTrue negatives: {:4d}\"\n",
    "\n",
    "def test_classifier(clf, dataset, feature_list, folds = 1000):\n",
    "    data = featureFormat(dataset, feature_list, sort_keys = True)\n",
    "    labels, features = targetFeatureSplit(data)\n",
    "    cv = StratifiedShuffleSplit(labels, folds, random_state = 42)\n",
    "    true_negatives = 0\n",
    "    false_negatives = 0\n",
    "    true_positives = 0\n",
    "    false_positives = 0\n",
    "    for train_idx, test_idx in cv: \n",
    "        features_train = []\n",
    "        features_test  = []\n",
    "        labels_train   = []\n",
    "        labels_test    = []\n",
    "        for ii in train_idx:\n",
    "            features_train.append( features[ii] )\n",
    "            labels_train.append( labels[ii] )\n",
    "        for jj in test_idx:\n",
    "            features_test.append( features[jj] )\n",
    "            labels_test.append( labels[jj] )\n",
    "        \n",
    "        ### fit the classifier using training set, and test on test set\n",
    "        clf.fit(features_train, labels_train)\n",
    "        predictions = clf.predict(features_test)\n",
    "        for prediction, truth in zip(predictions, labels_test):\n",
    "            if prediction == 0 and truth == 0:\n",
    "                true_negatives += 1\n",
    "            elif prediction == 0 and truth == 1:\n",
    "                false_negatives += 1\n",
    "            elif prediction == 1 and truth == 0:\n",
    "                false_positives += 1\n",
    "            elif prediction == 1 and truth == 1:\n",
    "                true_positives += 1\n",
    "            else:\n",
    "                print \"Warning: Found a predicted label not == 0 or 1.\"\n",
    "                print \"All predictions should take value 0 or 1.\"\n",
    "                print \"Evaluating performance for processed predictions:\"\n",
    "                break\n",
    "    try:\n",
    "        total_predictions = true_negatives + false_negatives + false_positives + true_positives\n",
    "        accuracy = 1.0*(true_positives + true_negatives)/total_predictions\n",
    "        precision = 1.0*true_positives/(true_positives+false_positives)\n",
    "        recall = 1.0*true_positives/(true_positives+false_negatives)\n",
    "        f1 = 2.0 * true_positives/(2*true_positives + false_positives+false_negatives)\n",
    "        f2 = (1+2.0*2.0) * precision*recall/(4*precision + recall)\n",
    "        print clf\n",
    "        print PERF_FORMAT_STRING.format(accuracy, precision, recall, f1, f2, display_precision = 5)\n",
    "        print RESULTS_FORMAT_STRING.format(total_predictions, true_positives, false_positives, false_negatives, true_negatives)\n",
    "        print \"\"\n",
    "    except:\n",
    "        print \"Got a divide by zero when trying out:\", clf\n",
    "        print \"Precision or recall may be undefined due to a lack of true positive predicitons.\"\n",
    "\n",
    "CLF_PICKLE_FILENAME = \"my_classifier.pkl\"\n",
    "DATASET_PICKLE_FILENAME = \"my_dataset.pkl\"\n",
    "FEATURE_LIST_FILENAME = \"my_feature_list.pkl\"\n",
    "\n",
    "def dump_classifier_and_data(clf, dataset, feature_list):\n",
    "    with open(CLF_PICKLE_FILENAME, \"w\") as clf_outfile:\n",
    "        pickle.dump(clf, clf_outfile)\n",
    "    with open(DATASET_PICKLE_FILENAME, \"w\") as dataset_outfile:\n",
    "        pickle.dump(dataset, dataset_outfile)\n",
    "    with open(FEATURE_LIST_FILENAME, \"w\") as featurelist_outfile:\n",
    "        pickle.dump(feature_list, featurelist_outfile)\n",
    "\n",
    "def load_classifier_and_data():\n",
    "    with open(CLF_PICKLE_FILENAME, \"r\") as clf_infile:\n",
    "        clf = pickle.load(clf_infile)\n",
    "    with open(DATASET_PICKLE_FILENAME, \"r\") as dataset_infile:\n",
    "        dataset = pickle.load(dataset_infile)\n",
    "    with open(FEATURE_LIST_FILENAME, \"r\") as featurelist_infile:\n",
    "        feature_list = pickle.load(featurelist_infile)\n",
    "    return clf, dataset, feature_list\n",
    "\n",
    "def main():\n",
    "    ### load up student's classifier, dataset, and feature_list\n",
    "    clf, dataset, feature_list = load_classifier_and_data()\n",
    "    ### Run testing script\n",
    "    test_classifier(clf, dataset, feature_list)\n",
    "\n",
    "if __name__ == '__main__':\n",
    "    main()\n"
   ]
  },
  {
   "cell_type": "code",
   "execution_count": null,
   "metadata": {
    "collapsed": true
   },
   "outputs": [],
   "source": []
  },
  {
   "cell_type": "code",
   "execution_count": null,
   "metadata": {
    "collapsed": true
   },
   "outputs": [],
   "source": []
  }
 ],
 "metadata": {
  "kernelspec": {
   "display_name": "Python 2",
   "language": "python",
   "name": "python2"
  },
  "language_info": {
   "codemirror_mode": {
    "name": "ipython",
    "version": 2
   },
   "file_extension": ".py",
   "mimetype": "text/x-python",
   "name": "python",
   "nbconvert_exporter": "python",
   "pygments_lexer": "ipython2",
   "version": "2.7.13"
  }
 },
 "nbformat": 4,
 "nbformat_minor": 2
}
